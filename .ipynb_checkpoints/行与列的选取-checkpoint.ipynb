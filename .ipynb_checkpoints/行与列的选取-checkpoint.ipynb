{
 "cells": [
  {
   "cell_type": "code",
   "execution_count": 1,
   "metadata": {},
   "outputs": [],
   "source": [
    "import pandas as pd\n",
    "import numpy as np\n",
    "\n",
    "path_df=\"C:\\\\Users\\\\zhanghao354\\\\Jupyter notebook\\\\用户流失预警\\\\data\\external\\\\流失度预测结果\\\\流失度.xlsx\"\n",
    "df=pd.read_excel(path_df)"
   ]
  },
  {
   "cell_type": "markdown",
   "metadata": {},
   "source": [
    "# 按照行进行"
   ]
  },
  {
   "cell_type": "code",
   "execution_count": 2,
   "metadata": {},
   "outputs": [
    {
     "data": {
      "text/html": [
       "<div>\n",
       "<style scoped>\n",
       "    .dataframe tbody tr th:only-of-type {\n",
       "        vertical-align: middle;\n",
       "    }\n",
       "\n",
       "    .dataframe tbody tr th {\n",
       "        vertical-align: top;\n",
       "    }\n",
       "\n",
       "    .dataframe thead th {\n",
       "        text-align: right;\n",
       "    }\n",
       "</style>\n",
       "<table border=\"1\" class=\"dataframe\">\n",
       "  <thead>\n",
       "    <tr style=\"text-align: right;\">\n",
       "      <th></th>\n",
       "      <th>pin</th>\n",
       "      <th>预占资源量</th>\n",
       "      <th>预占时长</th>\n",
       "      <th>2018使用时长</th>\n",
       "      <th>vip_flag</th>\n",
       "      <th>mvp_flag</th>\n",
       "      <th>public_flag</th>\n",
       "      <th>是否ISV</th>\n",
       "      <th>是否服务商</th>\n",
       "      <th>是否合同用户</th>\n",
       "      <th>是否有销售</th>\n",
       "      <th>account_balance</th>\n",
       "      <th>决策时长</th>\n",
       "      <th>最近一次访问距离</th>\n",
       "      <th>标签</th>\n",
       "      <th>流失度</th>\n",
       "    </tr>\n",
       "  </thead>\n",
       "  <tbody>\n",
       "    <tr>\n",
       "      <th>1</th>\n",
       "      <td>*yx_167266829</td>\n",
       "      <td>0.000000</td>\n",
       "      <td>0.000000</td>\n",
       "      <td>0.000000</td>\n",
       "      <td>0</td>\n",
       "      <td>0</td>\n",
       "      <td>0</td>\n",
       "      <td>0</td>\n",
       "      <td>0</td>\n",
       "      <td>0</td>\n",
       "      <td>0</td>\n",
       "      <td>0.01284</td>\n",
       "      <td>0.087695</td>\n",
       "      <td>0.242</td>\n",
       "      <td>0</td>\n",
       "      <td>0.987998</td>\n",
       "    </tr>\n",
       "    <tr>\n",
       "      <th>2</th>\n",
       "      <td>*yx_196688565</td>\n",
       "      <td>0.001312</td>\n",
       "      <td>0.030239</td>\n",
       "      <td>0.302808</td>\n",
       "      <td>0</td>\n",
       "      <td>0</td>\n",
       "      <td>0</td>\n",
       "      <td>0</td>\n",
       "      <td>0</td>\n",
       "      <td>0</td>\n",
       "      <td>0</td>\n",
       "      <td>0.01284</td>\n",
       "      <td>0.088972</td>\n",
       "      <td>0.067</td>\n",
       "      <td>1</td>\n",
       "      <td>0.443038</td>\n",
       "    </tr>\n",
       "    <tr>\n",
       "      <th>3</th>\n",
       "      <td>*yx_80847710</td>\n",
       "      <td>0.000000</td>\n",
       "      <td>0.000000</td>\n",
       "      <td>0.139601</td>\n",
       "      <td>0</td>\n",
       "      <td>0</td>\n",
       "      <td>0</td>\n",
       "      <td>0</td>\n",
       "      <td>0</td>\n",
       "      <td>0</td>\n",
       "      <td>0</td>\n",
       "      <td>0.01284</td>\n",
       "      <td>0.087684</td>\n",
       "      <td>0.062</td>\n",
       "      <td>0</td>\n",
       "      <td>0.866458</td>\n",
       "    </tr>\n",
       "  </tbody>\n",
       "</table>\n",
       "</div>"
      ],
      "text/plain": [
       "             pin     预占资源量      预占时长  2018使用时长  vip_flag  mvp_flag  \\\n",
       "1  *yx_167266829  0.000000  0.000000  0.000000         0         0   \n",
       "2  *yx_196688565  0.001312  0.030239  0.302808         0         0   \n",
       "3   *yx_80847710  0.000000  0.000000  0.139601         0         0   \n",
       "\n",
       "   public_flag  是否ISV  是否服务商  是否合同用户  是否有销售  account_balance      决策时长  \\\n",
       "1            0      0      0       0      0          0.01284  0.087695   \n",
       "2            0      0      0       0      0          0.01284  0.088972   \n",
       "3            0      0      0       0      0          0.01284  0.087684   \n",
       "\n",
       "   最近一次访问距离  标签       流失度  \n",
       "1     0.242   0  0.987998  \n",
       "2     0.067   1  0.443038  \n",
       "3     0.062   0  0.866458  "
      ]
     },
     "execution_count": 2,
     "metadata": {},
     "output_type": "execute_result"
    }
   ],
   "source": [
    "df.loc[1:3]"
   ]
  },
  {
   "cell_type": "code",
   "execution_count": 15,
   "metadata": {},
   "outputs": [
    {
     "data": {
      "text/html": [
       "<div>\n",
       "<style scoped>\n",
       "    .dataframe tbody tr th:only-of-type {\n",
       "        vertical-align: middle;\n",
       "    }\n",
       "\n",
       "    .dataframe tbody tr th {\n",
       "        vertical-align: top;\n",
       "    }\n",
       "\n",
       "    .dataframe thead th {\n",
       "        text-align: right;\n",
       "    }\n",
       "</style>\n",
       "<table border=\"1\" class=\"dataframe\">\n",
       "  <thead>\n",
       "    <tr style=\"text-align: right;\">\n",
       "      <th></th>\n",
       "      <th>pin</th>\n",
       "      <th>预占资源量</th>\n",
       "      <th>预占时长</th>\n",
       "      <th>2018使用时长</th>\n",
       "      <th>vip_flag</th>\n",
       "      <th>mvp_flag</th>\n",
       "      <th>public_flag</th>\n",
       "      <th>是否ISV</th>\n",
       "      <th>是否服务商</th>\n",
       "      <th>是否合同用户</th>\n",
       "      <th>是否有销售</th>\n",
       "      <th>account_balance</th>\n",
       "      <th>决策时长</th>\n",
       "      <th>最近一次访问距离</th>\n",
       "      <th>标签</th>\n",
       "      <th>流失度</th>\n",
       "    </tr>\n",
       "  </thead>\n",
       "  <tbody>\n",
       "    <tr>\n",
       "      <th>1</th>\n",
       "      <td>*yx_167266829</td>\n",
       "      <td>0.000000</td>\n",
       "      <td>0.000000</td>\n",
       "      <td>0.000000</td>\n",
       "      <td>0</td>\n",
       "      <td>0</td>\n",
       "      <td>0</td>\n",
       "      <td>0</td>\n",
       "      <td>0</td>\n",
       "      <td>0</td>\n",
       "      <td>0</td>\n",
       "      <td>0.01284</td>\n",
       "      <td>0.087695</td>\n",
       "      <td>0.242</td>\n",
       "      <td>0</td>\n",
       "      <td>0.987998</td>\n",
       "    </tr>\n",
       "    <tr>\n",
       "      <th>2</th>\n",
       "      <td>*yx_196688565</td>\n",
       "      <td>0.001312</td>\n",
       "      <td>0.030239</td>\n",
       "      <td>0.302808</td>\n",
       "      <td>0</td>\n",
       "      <td>0</td>\n",
       "      <td>0</td>\n",
       "      <td>0</td>\n",
       "      <td>0</td>\n",
       "      <td>0</td>\n",
       "      <td>0</td>\n",
       "      <td>0.01284</td>\n",
       "      <td>0.088972</td>\n",
       "      <td>0.067</td>\n",
       "      <td>1</td>\n",
       "      <td>0.443038</td>\n",
       "    </tr>\n",
       "  </tbody>\n",
       "</table>\n",
       "</div>"
      ],
      "text/plain": [
       "             pin     预占资源量      预占时长  2018使用时长  vip_flag  mvp_flag  \\\n",
       "1  *yx_167266829  0.000000  0.000000  0.000000         0         0   \n",
       "2  *yx_196688565  0.001312  0.030239  0.302808         0         0   \n",
       "\n",
       "   public_flag  是否ISV  是否服务商  是否合同用户  是否有销售  account_balance      决策时长  \\\n",
       "1            0      0      0       0      0          0.01284  0.087695   \n",
       "2            0      0      0       0      0          0.01284  0.088972   \n",
       "\n",
       "   最近一次访问距离  标签       流失度  \n",
       "1     0.242   0  0.987998  \n",
       "2     0.067   1  0.443038  "
      ]
     },
     "execution_count": 15,
     "metadata": {},
     "output_type": "execute_result"
    }
   ],
   "source": [
    "df[0:2]"
   ]
  },
  {
   "cell_type": "code",
   "execution_count": 19,
   "metadata": {},
   "outputs": [
    {
     "data": {
      "text/html": [
       "<div>\n",
       "<style scoped>\n",
       "    .dataframe tbody tr th:only-of-type {\n",
       "        vertical-align: middle;\n",
       "    }\n",
       "\n",
       "    .dataframe tbody tr th {\n",
       "        vertical-align: top;\n",
       "    }\n",
       "\n",
       "    .dataframe thead th {\n",
       "        text-align: right;\n",
       "    }\n",
       "</style>\n",
       "<table border=\"1\" class=\"dataframe\">\n",
       "  <thead>\n",
       "    <tr style=\"text-align: right;\">\n",
       "      <th></th>\n",
       "      <th>pin</th>\n",
       "      <th>预占资源量</th>\n",
       "      <th>预占时长</th>\n",
       "      <th>2018使用时长</th>\n",
       "      <th>vip_flag</th>\n",
       "      <th>mvp_flag</th>\n",
       "      <th>public_flag</th>\n",
       "      <th>是否ISV</th>\n",
       "      <th>是否服务商</th>\n",
       "      <th>是否合同用户</th>\n",
       "      <th>是否有销售</th>\n",
       "      <th>account_balance</th>\n",
       "      <th>决策时长</th>\n",
       "      <th>最近一次访问距离</th>\n",
       "      <th>标签</th>\n",
       "      <th>流失度</th>\n",
       "    </tr>\n",
       "  </thead>\n",
       "  <tbody>\n",
       "    <tr>\n",
       "      <th>2</th>\n",
       "      <td>*yx_196688565</td>\n",
       "      <td>0.001312</td>\n",
       "      <td>0.030239</td>\n",
       "      <td>0.302808</td>\n",
       "      <td>0</td>\n",
       "      <td>0</td>\n",
       "      <td>0</td>\n",
       "      <td>0</td>\n",
       "      <td>0</td>\n",
       "      <td>0</td>\n",
       "      <td>0</td>\n",
       "      <td>0.01284</td>\n",
       "      <td>0.088972</td>\n",
       "      <td>0.067</td>\n",
       "      <td>1</td>\n",
       "      <td>0.443038</td>\n",
       "    </tr>\n",
       "  </tbody>\n",
       "</table>\n",
       "</div>"
      ],
      "text/plain": [
       "             pin     预占资源量      预占时长  2018使用时长  vip_flag  mvp_flag  \\\n",
       "2  *yx_196688565  0.001312  0.030239  0.302808         0         0   \n",
       "\n",
       "   public_flag  是否ISV  是否服务商  是否合同用户  是否有销售  account_balance      决策时长  \\\n",
       "2            0      0      0       0      0          0.01284  0.088972   \n",
       "\n",
       "   最近一次访问距离  标签       流失度  \n",
       "2     0.067   1  0.443038  "
      ]
     },
     "execution_count": 19,
     "metadata": {},
     "output_type": "execute_result"
    }
   ],
   "source": [
    "df[1:2]"
   ]
  },
  {
   "cell_type": "code",
   "execution_count": 20,
   "metadata": {},
   "outputs": [
    {
     "name": "stderr",
     "output_type": "stream",
     "text": [
      "D:\\anaconda3-5.1.0\\lib\\site-packages\\ipykernel_launcher.py:1: DeprecationWarning: \n",
      ".ix is deprecated. Please use\n",
      ".loc for label based indexing or\n",
      ".iloc for positional indexing\n",
      "\n",
      "See the documentation here:\n",
      "http://pandas.pydata.org/pandas-docs/stable/indexing.html#ix-indexer-is-deprecated\n",
      "  \"\"\"Entry point for launching an IPython kernel.\n"
     ]
    },
    {
     "data": {
      "text/html": [
       "<div>\n",
       "<style scoped>\n",
       "    .dataframe tbody tr th:only-of-type {\n",
       "        vertical-align: middle;\n",
       "    }\n",
       "\n",
       "    .dataframe tbody tr th {\n",
       "        vertical-align: top;\n",
       "    }\n",
       "\n",
       "    .dataframe thead th {\n",
       "        text-align: right;\n",
       "    }\n",
       "</style>\n",
       "<table border=\"1\" class=\"dataframe\">\n",
       "  <thead>\n",
       "    <tr style=\"text-align: right;\">\n",
       "      <th></th>\n",
       "      <th>pin</th>\n",
       "      <th>预占资源量</th>\n",
       "      <th>预占时长</th>\n",
       "      <th>2018使用时长</th>\n",
       "      <th>vip_flag</th>\n",
       "      <th>mvp_flag</th>\n",
       "      <th>public_flag</th>\n",
       "      <th>是否ISV</th>\n",
       "      <th>是否服务商</th>\n",
       "      <th>是否合同用户</th>\n",
       "      <th>是否有销售</th>\n",
       "      <th>account_balance</th>\n",
       "      <th>决策时长</th>\n",
       "      <th>最近一次访问距离</th>\n",
       "      <th>标签</th>\n",
       "      <th>流失度</th>\n",
       "    </tr>\n",
       "  </thead>\n",
       "  <tbody>\n",
       "    <tr>\n",
       "      <th>1</th>\n",
       "      <td>*yx_167266829</td>\n",
       "      <td>0.000000</td>\n",
       "      <td>0.000000</td>\n",
       "      <td>0.000000</td>\n",
       "      <td>0</td>\n",
       "      <td>0</td>\n",
       "      <td>0</td>\n",
       "      <td>0</td>\n",
       "      <td>0</td>\n",
       "      <td>0</td>\n",
       "      <td>0</td>\n",
       "      <td>0.01284</td>\n",
       "      <td>0.087695</td>\n",
       "      <td>0.242</td>\n",
       "      <td>0</td>\n",
       "      <td>0.987998</td>\n",
       "    </tr>\n",
       "    <tr>\n",
       "      <th>2</th>\n",
       "      <td>*yx_196688565</td>\n",
       "      <td>0.001312</td>\n",
       "      <td>0.030239</td>\n",
       "      <td>0.302808</td>\n",
       "      <td>0</td>\n",
       "      <td>0</td>\n",
       "      <td>0</td>\n",
       "      <td>0</td>\n",
       "      <td>0</td>\n",
       "      <td>0</td>\n",
       "      <td>0</td>\n",
       "      <td>0.01284</td>\n",
       "      <td>0.088972</td>\n",
       "      <td>0.067</td>\n",
       "      <td>1</td>\n",
       "      <td>0.443038</td>\n",
       "    </tr>\n",
       "  </tbody>\n",
       "</table>\n",
       "</div>"
      ],
      "text/plain": [
       "             pin     预占资源量      预占时长  2018使用时长  vip_flag  mvp_flag  \\\n",
       "1  *yx_167266829  0.000000  0.000000  0.000000         0         0   \n",
       "2  *yx_196688565  0.001312  0.030239  0.302808         0         0   \n",
       "\n",
       "   public_flag  是否ISV  是否服务商  是否合同用户  是否有销售  account_balance      决策时长  \\\n",
       "1            0      0      0       0      0          0.01284  0.087695   \n",
       "2            0      0      0       0      0          0.01284  0.088972   \n",
       "\n",
       "   最近一次访问距离  标签       流失度  \n",
       "1     0.242   0  0.987998  \n",
       "2     0.067   1  0.443038  "
      ]
     },
     "execution_count": 20,
     "metadata": {},
     "output_type": "execute_result"
    }
   ],
   "source": [
    "df.ix[1:2]"
   ]
  },
  {
   "cell_type": "code",
   "execution_count": 27,
   "metadata": {},
   "outputs": [
    {
     "data": {
      "text/plain": [
       "pin                      龚成刚\n",
       "预占资源量                      0\n",
       "预占时长                       0\n",
       "2018使用时长                   0\n",
       "vip_flag                   0\n",
       "mvp_flag                   0\n",
       "public_flag                0\n",
       "是否ISV                      0\n",
       "是否服务商                      0\n",
       "是否合同用户                     0\n",
       "是否有销售                      0\n",
       "account_balance    0.0128396\n",
       "决策时长               0.0877065\n",
       "最近一次访问距离               0.384\n",
       "标签                         0\n",
       "流失度                 0.997321\n",
       "Name: 89558, dtype: object"
      ]
     },
     "execution_count": 27,
     "metadata": {},
     "output_type": "execute_result"
    }
   ],
   "source": [
    "df.iloc[-1]# 返回的是Series"
   ]
  },
  {
   "cell_type": "code",
   "execution_count": 29,
   "metadata": {},
   "outputs": [
    {
     "data": {
      "text/html": [
       "<div>\n",
       "<style scoped>\n",
       "    .dataframe tbody tr th:only-of-type {\n",
       "        vertical-align: middle;\n",
       "    }\n",
       "\n",
       "    .dataframe tbody tr th {\n",
       "        vertical-align: top;\n",
       "    }\n",
       "\n",
       "    .dataframe thead th {\n",
       "        text-align: right;\n",
       "    }\n",
       "</style>\n",
       "<table border=\"1\" class=\"dataframe\">\n",
       "  <thead>\n",
       "    <tr style=\"text-align: right;\">\n",
       "      <th></th>\n",
       "      <th>pin</th>\n",
       "      <th>预占资源量</th>\n",
       "      <th>预占时长</th>\n",
       "      <th>2018使用时长</th>\n",
       "      <th>vip_flag</th>\n",
       "      <th>mvp_flag</th>\n",
       "      <th>public_flag</th>\n",
       "      <th>是否ISV</th>\n",
       "      <th>是否服务商</th>\n",
       "      <th>是否合同用户</th>\n",
       "      <th>是否有销售</th>\n",
       "      <th>account_balance</th>\n",
       "      <th>决策时长</th>\n",
       "      <th>最近一次访问距离</th>\n",
       "      <th>标签</th>\n",
       "      <th>流失度</th>\n",
       "    </tr>\n",
       "  </thead>\n",
       "  <tbody>\n",
       "    <tr>\n",
       "      <th>89558</th>\n",
       "      <td>龚成刚</td>\n",
       "      <td>0.0</td>\n",
       "      <td>0.0</td>\n",
       "      <td>0.0</td>\n",
       "      <td>0</td>\n",
       "      <td>0</td>\n",
       "      <td>0</td>\n",
       "      <td>0</td>\n",
       "      <td>0</td>\n",
       "      <td>0</td>\n",
       "      <td>0</td>\n",
       "      <td>0.01284</td>\n",
       "      <td>0.087707</td>\n",
       "      <td>0.384</td>\n",
       "      <td>0</td>\n",
       "      <td>0.997321</td>\n",
       "    </tr>\n",
       "  </tbody>\n",
       "</table>\n",
       "</div>"
      ],
      "text/plain": [
       "       pin  预占资源量  预占时长  2018使用时长  vip_flag  mvp_flag  public_flag  是否ISV  \\\n",
       "89558  龚成刚    0.0   0.0       0.0         0         0            0      0   \n",
       "\n",
       "       是否服务商  是否合同用户  是否有销售  account_balance      决策时长  最近一次访问距离  标签       流失度  \n",
       "89558      0       0      0          0.01284  0.087707     0.384   0  0.997321  "
      ]
     },
     "execution_count": 29,
     "metadata": {},
     "output_type": "execute_result"
    }
   ],
   "source": [
    "df.iloc[-1:] #返回的是DataFrame"
   ]
  },
  {
   "cell_type": "markdown",
   "metadata": {},
   "source": [
    "# 按照列进行"
   ]
  },
  {
   "cell_type": "code",
   "execution_count": 6,
   "metadata": {},
   "outputs": [
    {
     "data": {
      "text/plain": [
       "1    0.000000\n",
       "2    0.001312\n",
       "3    0.000000\n",
       "Name: 预占资源量, dtype: float64"
      ]
     },
     "execution_count": 6,
     "metadata": {},
     "output_type": "execute_result"
    }
   ],
   "source": [
    "df['预占资源量'].head(3)"
   ]
  },
  {
   "cell_type": "code",
   "execution_count": 9,
   "metadata": {},
   "outputs": [
    {
     "data": {
      "text/html": [
       "<div>\n",
       "<style scoped>\n",
       "    .dataframe tbody tr th:only-of-type {\n",
       "        vertical-align: middle;\n",
       "    }\n",
       "\n",
       "    .dataframe tbody tr th {\n",
       "        vertical-align: top;\n",
       "    }\n",
       "\n",
       "    .dataframe thead th {\n",
       "        text-align: right;\n",
       "    }\n",
       "</style>\n",
       "<table border=\"1\" class=\"dataframe\">\n",
       "  <thead>\n",
       "    <tr style=\"text-align: right;\">\n",
       "      <th></th>\n",
       "      <th>预占资源量</th>\n",
       "      <th>2018使用时长</th>\n",
       "    </tr>\n",
       "  </thead>\n",
       "  <tbody>\n",
       "    <tr>\n",
       "      <th>1</th>\n",
       "      <td>0.000000</td>\n",
       "      <td>0.000000</td>\n",
       "    </tr>\n",
       "    <tr>\n",
       "      <th>2</th>\n",
       "      <td>0.001312</td>\n",
       "      <td>0.302808</td>\n",
       "    </tr>\n",
       "    <tr>\n",
       "      <th>3</th>\n",
       "      <td>0.000000</td>\n",
       "      <td>0.139601</td>\n",
       "    </tr>\n",
       "  </tbody>\n",
       "</table>\n",
       "</div>"
      ],
      "text/plain": [
       "      预占资源量  2018使用时长\n",
       "1  0.000000  0.000000\n",
       "2  0.001312  0.302808\n",
       "3  0.000000  0.139601"
      ]
     },
     "execution_count": 9,
     "metadata": {},
     "output_type": "execute_result"
    }
   ],
   "source": [
    "df[['预占资源量','2018使用时长']].head(3)"
   ]
  },
  {
   "cell_type": "code",
   "execution_count": 13,
   "metadata": {},
   "outputs": [
    {
     "data": {
      "text/plain": [
       "1    0.000000\n",
       "2    0.001312\n",
       "3    0.000000\n",
       "Name: 预占资源量, dtype: float64"
      ]
     },
     "execution_count": 13,
     "metadata": {},
     "output_type": "execute_result"
    }
   ],
   "source": [
    "df.预占资源量.head(3)"
   ]
  },
  {
   "cell_type": "markdown",
   "metadata": {},
   "source": [
    "# 特定行，特定列"
   ]
  },
  {
   "cell_type": "code",
   "execution_count": 38,
   "metadata": {},
   "outputs": [
    {
     "data": {
      "text/plain": [
       "pin    *yx_167266829\n",
       "Name: 1, dtype: object"
      ]
     },
     "execution_count": 38,
     "metadata": {},
     "output_type": "execute_result"
    }
   ],
   "source": [
    "df.ix[1,[0]]#选择第2行第1列的值"
   ]
  },
  {
   "cell_type": "code",
   "execution_count": 39,
   "metadata": {},
   "outputs": [
    {
     "data": {
      "text/html": [
       "<div>\n",
       "<style scoped>\n",
       "    .dataframe tbody tr th:only-of-type {\n",
       "        vertical-align: middle;\n",
       "    }\n",
       "\n",
       "    .dataframe tbody tr th {\n",
       "        vertical-align: top;\n",
       "    }\n",
       "\n",
       "    .dataframe thead th {\n",
       "        text-align: right;\n",
       "    }\n",
       "</style>\n",
       "<table border=\"1\" class=\"dataframe\">\n",
       "  <thead>\n",
       "    <tr style=\"text-align: right;\">\n",
       "      <th></th>\n",
       "      <th>pin</th>\n",
       "    </tr>\n",
       "  </thead>\n",
       "  <tbody>\n",
       "    <tr>\n",
       "      <th>1</th>\n",
       "      <td>*yx_167266829</td>\n",
       "    </tr>\n",
       "    <tr>\n",
       "      <th>2</th>\n",
       "      <td>*yx_196688565</td>\n",
       "    </tr>\n",
       "  </tbody>\n",
       "</table>\n",
       "</div>"
      ],
      "text/plain": [
       "             pin\n",
       "1  *yx_167266829\n",
       "2  *yx_196688565"
      ]
     },
     "execution_count": 39,
     "metadata": {},
     "output_type": "execute_result"
    }
   ],
   "source": [
    "df.ix[[1,2],[0]]"
   ]
  },
  {
   "cell_type": "code",
   "execution_count": null,
   "metadata": {},
   "outputs": [],
   "source": []
  }
 ],
 "metadata": {
  "kernelspec": {
   "display_name": "Python 3",
   "language": "python",
   "name": "python3"
  },
  "language_info": {
   "codemirror_mode": {
    "name": "ipython",
    "version": 3
   },
   "file_extension": ".py",
   "mimetype": "text/x-python",
   "name": "python",
   "nbconvert_exporter": "python",
   "pygments_lexer": "ipython3",
   "version": "3.6.4"
  }
 },
 "nbformat": 4,
 "nbformat_minor": 2
}
