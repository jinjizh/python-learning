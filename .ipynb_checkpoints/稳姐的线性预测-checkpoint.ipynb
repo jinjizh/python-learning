{
 "cells": [
  {
   "cell_type": "code",
   "execution_count": 7,
   "metadata": {},
   "outputs": [
    {
     "data": {
      "text/html": [
       "<div>\n",
       "<style scoped>\n",
       "    .dataframe tbody tr th:only-of-type {\n",
       "        vertical-align: middle;\n",
       "    }\n",
       "\n",
       "    .dataframe tbody tr th {\n",
       "        vertical-align: top;\n",
       "    }\n",
       "\n",
       "    .dataframe thead th {\n",
       "        text-align: right;\n",
       "    }\n",
       "</style>\n",
       "<table border=\"1\" class=\"dataframe\">\n",
       "  <thead>\n",
       "    <tr style=\"text-align: right;\">\n",
       "      <th></th>\n",
       "      <th>1</th>\n",
       "      <th>2</th>\n",
       "      <th>3</th>\n",
       "      <th>4</th>\n",
       "      <th>5</th>\n",
       "      <th>6</th>\n",
       "      <th>7</th>\n",
       "      <th>8</th>\n",
       "      <th>9</th>\n",
       "    </tr>\n",
       "  </thead>\n",
       "  <tbody>\n",
       "    <tr>\n",
       "      <th>0</th>\n",
       "      <td>1335.979</td>\n",
       "      <td>1698.183</td>\n",
       "      <td>2086.438</td>\n",
       "      <td>2304.558</td>\n",
       "      <td>2451.732</td>\n",
       "      <td>2420.78</td>\n",
       "      <td>2541.22</td>\n",
       "      <td>2536.51</td>\n",
       "      <td>2547.005</td>\n",
       "    </tr>\n",
       "    <tr>\n",
       "      <th>0</th>\n",
       "      <td>1335.979</td>\n",
       "      <td>1698.183</td>\n",
       "      <td>2086.438</td>\n",
       "      <td>2304.558</td>\n",
       "      <td>2451.732</td>\n",
       "      <td>2420.78</td>\n",
       "      <td>2541.22</td>\n",
       "      <td>2536.51</td>\n",
       "      <td>2547.005</td>\n",
       "    </tr>\n",
       "  </tbody>\n",
       "</table>\n",
       "</div>"
      ],
      "text/plain": [
       "          1         2         3         4         5        6        7  \\\n",
       "0  1335.979  1698.183  2086.438  2304.558  2451.732  2420.78  2541.22   \n",
       "0  1335.979  1698.183  2086.438  2304.558  2451.732  2420.78  2541.22   \n",
       "\n",
       "         8         9  \n",
       "0  2536.51  2547.005  \n",
       "0  2536.51  2547.005  "
      ]
     },
     "execution_count": 7,
     "metadata": {},
     "output_type": "execute_result"
    }
   ],
   "source": [
    "import pandas as pd\n",
    "import numpy as np\n",
    "\n",
    "#导入已经处理过的数据\n",
    "df_path=\"D:\\\\zhanghao354\\\\Desktop\\\\111.xlsx\"\n",
    "df=pd.read_excel(df_path)\n",
    "#查看数据\n",
    "df.head(3).append(df.tail(3))"
   ]
  },
  {
   "cell_type": "code",
   "execution_count": null,
   "metadata": {},
   "outputs": [],
   "source": []
  }
 ],
 "metadata": {
  "kernelspec": {
   "display_name": "Python 3",
   "language": "python",
   "name": "python3"
  },
  "language_info": {
   "codemirror_mode": {
    "name": "ipython",
    "version": 3
   },
   "file_extension": ".py",
   "mimetype": "text/x-python",
   "name": "python",
   "nbconvert_exporter": "python",
   "pygments_lexer": "ipython3",
   "version": "3.6.4"
  }
 },
 "nbformat": 4,
 "nbformat_minor": 4
}
