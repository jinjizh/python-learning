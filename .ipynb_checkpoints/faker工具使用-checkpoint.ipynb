{
 "cells": [
  {
   "cell_type": "markdown",
   "metadata": {},
   "source": [
    "faker链接：https://faker.readthedocs.io/en/master/index.html"
   ]
  },
  {
   "cell_type": "code",
   "execution_count": 1,
   "metadata": {},
   "outputs": [],
   "source": [
    "from faker import Faker"
   ]
  },
  {
   "cell_type": "code",
   "execution_count": 2,
   "metadata": {},
   "outputs": [
    {
     "name": "stdout",
     "output_type": "stream",
     "text": [
      "name 張嘉玲\n",
      "address 83972 員林市北投巷53號7樓\n",
      "text 現在本站注冊一種以下發生推薦.要求當前研究公司.當前繼續社區.\n",
      "分析國內的人以及目前.決定支持隻是發現其實客戶大家因為.不會也是應用留言中文今天.\n",
      "希望推薦帖子幫助而且部門.品牌電腦最后.作為不過包括隻有公司.\n",
      "價格有關就是事情出來類型工具.政府積分一點音樂作為這麼幫助.\n",
      "開始注冊關系通過.廣告地方國際登錄事情個人時候.\n",
      "標題建設的話到了直接更多報告客戶.正在應用公司今年客戶感覺.\n"
     ]
    }
   ],
   "source": [
    "faker=Faker('zh_TW')\n",
    "print('name',faker.name())\n",
    "print('address',faker.address())\n",
    "print('text',faker.text())"
   ]
  },
  {
   "cell_type": "code",
   "execution_count": 33,
   "metadata": {},
   "outputs": [
    {
     "name": "stdout",
     "output_type": "stream",
     "text": [
      "name: Ashley Miller\n"
     ]
    }
   ],
   "source": [
    "faker=Faker('en_AU')\n",
    "print('name:',faker.name())"
   ]
  },
  {
   "cell_type": "code",
   "execution_count": 35,
   "metadata": {},
   "outputs": [
    {
     "name": "stdout",
     "output_type": "stream",
     "text": [
      "name: Maie Maasik\n"
     ]
    }
   ],
   "source": [
    "faker=Faker('et_ee')\n",
    "print('name:',faker.name())"
   ]
  },
  {
   "cell_type": "code",
   "execution_count": 15,
   "metadata": {},
   "outputs": [
    {
     "name": "stdout",
     "output_type": "stream",
     "text": [
      "name 华玉英\n",
      "address 湖南省桂英市翔安昆明街o座 865066\n",
      "text 深圳解决帮助功能所以任何还是.资料深圳来源已经.包括合作不要文件首页记者电影.\n",
      "很多问题产品还有研究需要生活.状态欢迎的话简介我们为了阅读.留言美国客户全国.\n",
      "增加解决发展直接那个点击.活动知道系统次数.\n",
      "主题地方特别.软件任何本站一切两个出现就是.\n",
      "名称目前因为管理.经营或者等级责任中文.最新内容如何表示数据技术而且.具有报告不同结果感觉中文这个.\n",
      "工作： 网络管理(Helpdesk)\n",
      "工作： Mozilla/5.0 (X11; Linux i686) AppleWebKit/5362 (KHTML, like Gecko) Chrome/15.0.845.0 Safari/5362\n"
     ]
    }
   ],
   "source": [
    "faker=Faker('zh_CN')\n",
    "print('name',faker.name())\n",
    "print('address',faker.address())\n",
    "print('text',faker.text())\n",
    "print('工作：',faker.job())"
   ]
  },
  {
   "cell_type": "code",
   "execution_count": 14,
   "metadata": {},
   "outputs": [
    {
     "name": "stdout",
     "output_type": "stream",
     "text": [
      "[<faker.providers.user_agent.Provider object at 0x000002BFD2ECC668>, <faker.providers.ssn.zh_CN.Provider object at 0x000002BFD2ECC208>, <faker.providers.python.Provider object at 0x000002BFD2ECC4A8>, <faker.providers.profile.Provider object at 0x000002BFD2ECC978>, <faker.providers.phone_number.zh_CN.Provider object at 0x000002BFD2ECC3C8>, <faker.providers.person.zh_CN.Provider object at 0x000002BFD2ECC0B8>, <faker.providers.misc.Provider object at 0x000002BFD2E99DA0>, <faker.providers.lorem.zh_CN.Provider object at 0x000002BFD2E99D68>, <faker.providers.job.zh_CN.Provider object at 0x000002BFD2E99E48>, <faker.providers.isbn.Provider object at 0x000002BFD2E99FD0>, <faker.providers.internet.zh_CN.Provider object at 0x000002BFD2E99F98>, <faker.providers.geo.en_US.Provider object at 0x000002BFD2E99550>, <faker.providers.file.Provider object at 0x000002BFD2E99400>, <faker.providers.date_time.en_US.Provider object at 0x000002BFD2E99668>, <faker.providers.currency.Provider object at 0x000002BFD2E99DD8>, <faker.providers.credit_card.Provider object at 0x000002BFD2E99E80>, <faker.providers.company.zh_CN.Provider object at 0x000002BFD2DABE80>, <faker.providers.color.en_US.Provider object at 0x000002BFD2E99F60>, <faker.providers.barcode.Provider object at 0x000002BFD2E995C0>, <faker.providers.bank.en_GB.Provider object at 0x000002BFD2E275C0>, <faker.providers.automotive.en_US.Provider object at 0x000002BFD2E99CC0>, <faker.providers.address.zh_CN.Provider object at 0x000002BFD2E274A8>]\n"
     ]
    }
   ],
   "source": [
    "print(faker.providers)"
   ]
  },
  {
   "cell_type": "code",
   "execution_count": 19,
   "metadata": {},
   "outputs": [
    {
     "name": "stdout",
     "output_type": "stream",
     "text": [
      "公司： 新宇龙信息科技有限公司\n"
     ]
    }
   ],
   "source": [
    "print('公司：',faker.company())"
   ]
  },
  {
   "cell_type": "code",
   "execution_count": 21,
   "metadata": {},
   "outputs": [
    {
     "data": {
      "text/plain": [
       "Decimal('150.539984')"
      ]
     },
     "execution_count": 21,
     "metadata": {},
     "output_type": "execute_result"
    }
   ],
   "source": [
    "faker.coordinate()"
   ]
  },
  {
   "cell_type": "code",
   "execution_count": 23,
   "metadata": {},
   "outputs": [
    {
     "data": {
      "text/plain": [
       "'志强'"
      ]
     },
     "execution_count": 23,
     "metadata": {},
     "output_type": "execute_result"
    }
   ],
   "source": [
    "faker.first_name_male()"
   ]
  },
  {
   "cell_type": "code",
   "execution_count": 25,
   "metadata": {},
   "outputs": [
    {
     "data": {
      "text/plain": [
       "'赵'"
      ]
     },
     "execution_count": 25,
     "metadata": {},
     "output_type": "execute_result"
    }
   ],
   "source": [
    "faker.last_name_male()"
   ]
  },
  {
   "cell_type": "code",
   "execution_count": 29,
   "metadata": {},
   "outputs": [
    {
     "name": "stdout",
     "output_type": "stream",
     "text": [
      "李 彬 张丽华\n"
     ]
    }
   ],
   "source": [
    "print(faker.last_name_male(),faker.first_name_male(),faker.name())"
   ]
  },
  {
   "cell_type": "code",
   "execution_count": null,
   "metadata": {},
   "outputs": [],
   "source": []
  }
 ],
 "metadata": {
  "kernelspec": {
   "display_name": "Python 3",
   "language": "python",
   "name": "python3"
  },
  "language_info": {
   "codemirror_mode": {
    "name": "ipython",
    "version": 3
   },
   "file_extension": ".py",
   "mimetype": "text/x-python",
   "name": "python",
   "nbconvert_exporter": "python",
   "pygments_lexer": "ipython3",
   "version": "3.7.0"
  }
 },
 "nbformat": 4,
 "nbformat_minor": 2
}
