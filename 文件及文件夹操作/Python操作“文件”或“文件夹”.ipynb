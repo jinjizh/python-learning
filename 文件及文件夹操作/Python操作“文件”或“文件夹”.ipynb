{
 "cells": [
  {
   "cell_type": "markdown",
   "metadata": {},
   "source": [
    "参考：Python:你还在手动操作“文件”或“文件夹”吗？\n",
    "https://mp.weixin.qq.com/s/Iu9KbdrHi5czb-rO_EEzUQ"
   ]
  },
  {
   "cell_type": "markdown",
   "metadata": {
    "cell_style": "center"
   },
   "source": [
    "<img src=\"文章框架.png\" />"
   ]
  },
  {
   "cell_type": "markdown",
   "metadata": {},
   "source": [
    "# 输出目录下所有文件及文件夹\n",
    "## os.getcwd()：获取当前python程序的运行路径"
   ]
  },
  {
   "cell_type": "code",
   "execution_count": 3,
   "metadata": {},
   "outputs": [
    {
     "data": {
      "text/plain": [
       "'C:\\\\Users\\\\zhanghao354\\\\Jupyter notebook\\\\Python学习\\\\文件及文件夹操作'"
      ]
     },
     "execution_count": 3,
     "metadata": {},
     "output_type": "execute_result"
    }
   ],
   "source": [
    "import os\n",
    "os.getcwd()"
   ]
  },
  {
   "cell_type": "markdown",
   "metadata": {},
   "source": [
    "## 路径中斜杠(/)和反斜杠()的说明"
   ]
  },
  {
   "cell_type": "markdown",
   "metadata": {},
   "source": [
    "<img src=\"斜杠和反斜杠说明.png\" />"
   ]
  },
  {
   "cell_type": "markdown",
   "metadata": {},
   "source": [
    "## os.path.join()：自动连接路径(不同的操作系统，连接符不同)"
   ]
  },
  {
   "cell_type": "code",
   "execution_count": 4,
   "metadata": {},
   "outputs": [
    {
     "data": {
      "text/plain": [
       "'project\\\\demo'"
      ]
     },
     "execution_count": 4,
     "metadata": {},
     "output_type": "execute_result"
    }
   ],
   "source": [
    "os.path.join('project','demo')"
   ]
  },
  {
   "cell_type": "code",
   "execution_count": 5,
   "metadata": {},
   "outputs": [
    {
     "data": {
      "text/plain": [
       "'C:\\\\My Project\\\\Demo'"
      ]
     },
     "execution_count": 5,
     "metadata": {},
     "output_type": "execute_result"
    }
   ],
   "source": [
    "\"C:\\\\\" + os.path.join(\"My Project\",\"Demo\")"
   ]
  },
  {
   "cell_type": "markdown",
   "metadata": {},
   "source": [
    "## 绝对路径和相对路径\n",
    "\n",
    "<img src=\"绝对路径和相对路径.png\" />"
   ]
  },
  {
   "cell_type": "markdown",
   "metadata": {},
   "source": [
    "## os.listdir()与os.isdir()\n",
    "\n",
    "os.listdir()：列出当前程序文件夹下的所有文件和文件夹；\n",
    "os.scandir()：os.listdir()的一种更好的替代方法，返回的是一个迭代器。注意：我们可以采用循环迭代其中的每一个元素，os.scandir()有两个特殊的属性和一个方法，我们在下面的例子中，进行演示。"
   ]
  },
  {
   "cell_type": "code",
   "execution_count": 7,
   "metadata": {},
   "outputs": [
    {
     "data": {
      "text/plain": [
       "['.ipynb_checkpoints',\n",
       " 'Python操作“文件”或“文件夹”.ipynb',\n",
       " '文章框架.png',\n",
       " '斜杠和反斜杠说明.png',\n",
       " '绝对路径和相对路径.png']"
      ]
     },
     "execution_count": 7,
     "metadata": {},
     "output_type": "execute_result"
    }
   ],
   "source": [
    "os.listdir()\n"
   ]
  },
  {
   "cell_type": "markdown",
   "metadata": {},
   "source": [
    "name属性：返回的是某个文件的名称；\n",
    "path属性：返回的是某个文件的路径；\n",
    "is_dir()方法：展示某个文件，是否是文件夹"
   ]
  },
  {
   "cell_type": "code",
   "execution_count": 8,
   "metadata": {},
   "outputs": [
    {
     "name": "stdout",
     "output_type": "stream",
     "text": [
      ".ipynb_checkpoints True \n",
      "\t .\\.ipynb_checkpoints\n",
      "Python操作“文件”或“文件夹”.ipynb False \n",
      "\t .\\Python操作“文件”或“文件夹”.ipynb\n",
      "文章框架.png False \n",
      "\t .\\文章框架.png\n",
      "斜杠和反斜杠说明.png False \n",
      "\t .\\斜杠和反斜杠说明.png\n",
      "绝对路径和相对路径.png False \n",
      "\t .\\绝对路径和相对路径.png\n"
     ]
    }
   ],
   "source": [
    "for item in os.scandir():\n",
    "    print(item.name,item.is_dir(),\"\\n\\t\",item.path)"
   ]
  },
  {
   "cell_type": "code",
   "execution_count": 11,
   "metadata": {},
   "outputs": [
    {
     "name": "stdout",
     "output_type": "stream",
     "text": [
      ".ipynb_checkpoints True \n",
      "\n",
      "assert：断言.ipynb False \n",
      "\n",
      "faker工具使用.ipynb False \n",
      "\n",
      "与mysql连接.ipynb False \n",
      "\n",
      "参数优化及选择.ipynb False \n",
      "\n",
      "数据挖掘入门知识体系 True \n",
      "\n",
      "数据预处理原理与实践.ipynb False \n",
      "\n",
      "文件及文件夹操作 True \n",
      "\n",
      "显示循环进度.ipynb False \n",
      "\n",
      "正则表达式.ipynb False \n",
      "\n",
      "清洗数据，我习惯用这 7 步！.ipynb False \n",
      "\n",
      "特征工程.ipynb False \n",
      "\n",
      "稳姐的线性预测.ipynb False \n",
      "\n",
      "累计计算和滚动计算.ipynb False \n",
      "\n",
      "行与列的选取.ipynb False \n",
      "\n",
      "行与列的选取v2.ipynb False \n",
      "\n",
      "路径设置 True \n",
      "\n"
     ]
    }
   ],
   "source": [
    "os.listdir(\"C:\\\\Users\\\\zhanghao354\\\\Jupyter notebook\\\\Python学习\")\n",
    "for item in os.scandir(\"C:\\\\Users\\\\zhanghao354\\\\Jupyter notebook\\\\Python学习\"):\n",
    "    print(item.name,item.is_dir(),\"\\n\")"
   ]
  },
  {
   "cell_type": "markdown",
   "metadata": {},
   "source": [
    "# 遍历、搜索文件及查询文件信息\n",
    "## 找出文件夹里的文件夹里的“文件”或“文件夹”\n",
    "\n",
    "### os.walk(路径)：传入一个路径，帮助我们将文件夹里的文件夹里的文件夹里的文件都找出来。"
   ]
  },
  {
   "cell_type": "code",
   "execution_count": 12,
   "metadata": {},
   "outputs": [
    {
     "name": "stdout",
     "output_type": "stream",
     "text": [
      "发现文件夹\t./\n",
      "['Python操作“文件”或“文件夹”.ipynb', '文章框架.png', '斜杠和反斜杠说明.png', '绝对路径和相对路径.png']\n",
      "发现文件夹\t./.ipynb_checkpoints\n",
      "['Python操作“文件”或“文件夹”-checkpoint.ipynb']\n"
     ]
    }
   ],
   "source": [
    "for dirpath, dirnames, files in os.walk(\"./\"):\n",
    "    print(f\"发现文件夹\\t{dirpath}\")\n",
    "    print(files)\n"
   ]
  },
  {
   "cell_type": "code",
   "execution_count": 13,
   "metadata": {},
   "outputs": [
    {
     "name": "stdout",
     "output_type": "stream",
     "text": [
      "发现文件夹\t./\n",
      "['.ipynb_checkpoints']\n",
      "发现文件夹\t./.ipynb_checkpoints\n",
      "[]\n"
     ]
    }
   ],
   "source": [
    " for dirpath, dirnames, files in os.walk(\"./\"):\n",
    "    print(f\"发现文件夹\\t{dirpath}\")\n",
    "    print(dirnames) "
   ]
  },
  {
   "cell_type": "markdown",
   "metadata": {},
   "source": [
    "## 搜索、匹配文件名称及文件信息查看\n",
    "### 方法一：startswith()和endswith()\n",
    "\n",
    "字符串A.startswith（字符串B）：字符串A是否以字符串B开头；\n",
    "\n",
    "字符串A.endswith（字符串B）：字符串A是否以字符串B结尾；\n"
   ]
  },
  {
   "cell_type": "code",
   "execution_count": 14,
   "metadata": {},
   "outputs": [
    {
     "data": {
      "text/plain": [
       "True"
      ]
     },
     "execution_count": 14,
     "metadata": {},
     "output_type": "execute_result"
    }
   ],
   "source": [
    "\"abc.txt\".startswith(\"abc\")\n",
    "\"abc.txt\".endswith(\".txt\")"
   ]
  },
  {
   "cell_type": "code",
   "execution_count": 15,
   "metadata": {},
   "outputs": [
    {
     "name": "stdout",
     "output_type": "stream",
     "text": [
      "a.txt\n",
      "d.txt\n",
      "e.txt\n"
     ]
    }
   ],
   "source": [
    "list1 = [\"a.txt\", \"b.py\", \"c.xlsx\", \"d.txt\", \"e.txt\"]\n",
    "for item in list1:\n",
    "    if  item.endswith(\".txt\"):\n",
    "        print(item)"
   ]
  },
  {
   "cell_type": "markdown",
   "metadata": {},
   "source": [
    "### 方法二：glob模块\n",
    "<img src=\"glob.png\" />"
   ]
  },
  {
   "cell_type": "code",
   "execution_count": 18,
   "metadata": {},
   "outputs": [],
   "source": [
    "import glob"
   ]
  },
  {
   "cell_type": "code",
   "execution_count": 24,
   "metadata": {},
   "outputs": [
    {
     "name": "stdout",
     "output_type": "stream",
     "text": [
      "文章框架.png\n",
      "斜杠和反斜杠说明.png\n",
      "绝对路径和相对路径.png\n"
     ]
    }
   ],
   "source": [
    "for i in glob.glob(\"*.png\"):\n",
    "    print(i)"
   ]
  },
  {
   "cell_type": "code",
   "execution_count": 26,
   "metadata": {},
   "outputs": [
    {
     "name": "stdout",
     "output_type": "stream",
     "text": [
      "a.txt\n",
      "aa.txt\n",
      "aba.txt\n"
     ]
    }
   ],
   "source": [
    "for i in glob.glob(\"a*.txt\"):\n",
    "    print(i)"
   ]
  },
  {
   "cell_type": "code",
   "execution_count": 27,
   "metadata": {},
   "outputs": [
    {
     "name": "stdout",
     "output_type": "stream",
     "text": [
      "aa.txt\n"
     ]
    }
   ],
   "source": [
    "\n",
    "for i in glob.glob(\"a?.txt\"):\n",
    "    print(i)\n",
    "\n"
   ]
  },
  {
   "cell_type": "code",
   "execution_count": 28,
   "metadata": {},
   "outputs": [
    {
     "name": "stdout",
     "output_type": "stream",
     "text": [
      "aba.txt\n"
     ]
    }
   ],
   "source": [
    "for i in glob.glob(\"a??.txt\"):\n",
    "    print(i)"
   ]
  },
  {
   "cell_type": "markdown",
   "metadata": {},
   "source": [
    "特别的：glob()方法中还有一个参数recursive = True，能够将所有深层文件夹里面，符合条件的文件给你找出来。"
   ]
  },
  {
   "cell_type": "code",
   "execution_count": 29,
   "metadata": {},
   "outputs": [
    {
     "name": "stdout",
     "output_type": "stream",
     "text": [
      "['project\\\\z.txt']\n",
      "['a.txt', 'aa.txt', 'aba.txt', 'test.txt', 'project\\\\z.txt']\n"
     ]
    }
   ],
   "source": [
    "# 注意：一个*和两个*的区别\n",
    "print(glob.glob(\"*/*.txt\",recursive=True))\n",
    "print(glob.glob(\"**/*.txt\",recursive=True))"
   ]
  },
  {
   "cell_type": "markdown",
   "metadata": {},
   "source": [
    "### os.scandir()返回的文件都可以利用stat()方法，进行查看\n",
    "<img src=\"scandir参数.png\" />"
   ]
  },
  {
   "cell_type": "code",
   "execution_count": 30,
   "metadata": {},
   "outputs": [
    {
     "name": "stdout",
     "output_type": "stream",
     "text": [
      ".ipynb_checkpoints os.stat_result(st_mode=16895, st_ino=0, st_dev=0, st_nlink=0, st_uid=0, st_gid=0, st_size=0, st_atime=1589536713, st_mtime=1589526626, st_ctime=1589526588) \n",
      "\n",
      "a.txt os.stat_result(st_mode=33206, st_ino=0, st_dev=0, st_nlink=0, st_uid=0, st_gid=0, st_size=0, st_atime=1589536753, st_mtime=1589536753, st_ctime=1589536753) \n",
      "\n",
      "aa.txt os.stat_result(st_mode=33206, st_ino=0, st_dev=0, st_nlink=0, st_uid=0, st_gid=0, st_size=0, st_atime=1589536784, st_mtime=1589536753, st_ctime=1589536784) \n",
      "\n",
      "aba.txt os.stat_result(st_mode=33206, st_ino=0, st_dev=0, st_nlink=0, st_uid=0, st_gid=0, st_size=0, st_atime=1589536787, st_mtime=1589536753, st_ctime=1589536787) \n",
      "\n",
      "glob.png os.stat_result(st_mode=33206, st_ino=0, st_dev=0, st_nlink=0, st_uid=0, st_gid=0, st_size=168868, st_atime=1589536880, st_mtime=1589536880, st_ctime=1589536880) \n",
      "\n",
      "project os.stat_result(st_mode=16895, st_ino=0, st_dev=0, st_nlink=0, st_uid=0, st_gid=0, st_size=0, st_atime=1589536947, st_mtime=1589536947, st_ctime=1589536932) \n",
      "\n",
      "Python操作“文件”或“文件夹”.ipynb os.stat_result(st_mode=33206, st_ino=0, st_dev=0, st_nlink=0, st_uid=0, st_gid=0, st_size=7983, st_atime=1589527677, st_mtime=1589527677, st_ctime=1589526588) \n",
      "\n",
      "test.txt os.stat_result(st_mode=33206, st_ino=0, st_dev=0, st_nlink=0, st_uid=0, st_gid=0, st_size=0, st_atime=1589536786, st_mtime=1589536753, st_ctime=1589536786) \n",
      "\n",
      "文章框架.png os.stat_result(st_mode=33206, st_ino=0, st_dev=0, st_nlink=0, st_uid=0, st_gid=0, st_size=289940, st_atime=1589526723, st_mtime=1589526723, st_ctime=1589526723) \n",
      "\n",
      "斜杠和反斜杠说明.png os.stat_result(st_mode=33206, st_ino=0, st_dev=0, st_nlink=0, st_uid=0, st_gid=0, st_size=187721, st_atime=1589526960, st_mtime=1589526960, st_ctime=1589526960) \n",
      "\n",
      "绝对路径和相对路径.png os.stat_result(st_mode=33206, st_ino=0, st_dev=0, st_nlink=0, st_uid=0, st_gid=0, st_size=306861, st_atime=1589536852, st_mtime=1589527116, st_ctime=1589527116) \n",
      "\n"
     ]
    }
   ],
   "source": [
    "for file in os.scandir():\n",
    "    print(file.name, file.stat(), \"\\n\")"
   ]
  },
  {
   "cell_type": "markdown",
   "metadata": {},
   "source": [
    "# 批量创建、复制、移动、删除、重命名文件及文件夹"
   ]
  },
  {
   "cell_type": "markdown",
   "metadata": {},
   "source": [
    "## 创建文件夹\n",
    "\n",
    "os.mkdir(\"新文件夹名称\")#创建单层文件夹；\n",
    "\n",
    "os.makedirs(\"第一层/第二层/第三层\")#创建多层文件夹；"
   ]
  },
  {
   "cell_type": "code",
   "execution_count": 32,
   "metadata": {},
   "outputs": [],
   "source": [
    "\n",
    "list1 = [\"文件夹{}\".format(i) for i in range(5)]\n",
    "for i in list1:\n",
    "    os.mkdir(i)"
   ]
  },
  {
   "cell_type": "markdown",
   "metadata": {},
   "source": [
    "问题：当某个文件夹已经存在的时候，运行此代码，会报错。此时可以添加一个判断条件"
   ]
  },
  {
   "cell_type": "code",
   "execution_count": 33,
   "metadata": {},
   "outputs": [],
   "source": [
    "if not os.path.exists(\"文件夹\"):\n",
    "    os.mkdir(\"文件夹\")"
   ]
  },
  {
   "cell_type": "markdown",
   "metadata": {},
   "source": [
    "## 复制文件及文件夹(shutil模块儿)\n",
    "\n",
    "shutil.copy(\"要复制的文件\", \"要复制到的位置\")：复制文件；\n",
    "\n",
    "shutil.copytree(\"要复制的文件夹\", \"要复制到的新文件夹的位置\")：复制文件夹；\n",
    "\n",
    "### 复制文件"
   ]
  },
  {
   "cell_type": "code",
   "execution_count": 34,
   "metadata": {},
   "outputs": [
    {
     "data": {
      "text/plain": [
       "'./project/新名字.txt'"
      ]
     },
     "execution_count": 34,
     "metadata": {},
     "output_type": "execute_result"
    }
   ],
   "source": [
    "import shutil\n",
    "# 将aba.txt复制一份到project文件夹中。\n",
    "shutil.copy(\"aba.txt\", \"./project\")\n",
    "# 将aba.txt复制一份到project文件夹中，并重新命名为“新名字.txt”。\n",
    "shutil.copy(\"aba.txt\", \"./project/新名字.txt\")"
   ]
  },
  {
   "cell_type": "markdown",
   "metadata": {},
   "source": [
    "### 复制文件夹：相当于重命名文件夹\n",
    "shutil.copytree(\"要复制的文件夹\", \"要复制到的新文件夹的位置\")；\n",
    "\n",
    "注意：将某个文件夹移动到另外一个文件夹(该文件夹必须是新文件夹)，不能是已经存在了的文件夹；"
   ]
  },
  {
   "cell_type": "code",
   "execution_count": 35,
   "metadata": {},
   "outputs": [
    {
     "data": {
      "text/plain": [
       "'./qq'"
      ]
     },
     "execution_count": 35,
     "metadata": {},
     "output_type": "execute_result"
    }
   ],
   "source": [
    "import shutil\n",
    "shutil.copytree(\"project\", \"./qq\")"
   ]
  },
  {
   "cell_type": "markdown",
   "metadata": {},
   "source": [
    "## 移动文件或文件夹\n",
    "\n",
    "shutil.move(\"要移动的文件或文件夹\",\"要移动到的位置\")：移动文件/文件夹；\n",
    "\n",
    "文件夹或者文件被移动后，原始文件就没有了；\n",
    "\n",
    "### 移动文件\n",
    "\n",
    "shutil.move(\"要移动的文件\",\"要移动到的位置\")"
   ]
  },
  {
   "cell_type": "code",
   "execution_count": 39,
   "metadata": {},
   "outputs": [
    {
     "data": {
      "text/plain": [
       "'./文件夹/aa.txt'"
      ]
     },
     "execution_count": 39,
     "metadata": {},
     "output_type": "execute_result"
    }
   ],
   "source": [
    "import shutil\n",
    "# 将aba.txt移动到“文件夹”文件夹下\n",
    "shutil.move(\"aa.txt\",\"./文件夹/\")\n"
   ]
  },
  {
   "cell_type": "code",
   "execution_count": 42,
   "metadata": {},
   "outputs": [
    {
     "data": {
      "text/plain": [
       "'./文件夹/test1.txt'"
      ]
     },
     "execution_count": 42,
     "metadata": {},
     "output_type": "execute_result"
    }
   ],
   "source": [
    "# 将test.txt移动到“文件夹”文件夹下，并重新命名为test1.txt\n",
    "shutil.move(\"test.txt\",\"./文件夹/test1.txt\")"
   ]
  },
  {
   "cell_type": "markdown",
   "metadata": {},
   "source": [
    "### 移动文件夹\n",
    "shutil.move(\"要移动的文件夹\",\"要移动到的位置\")"
   ]
  },
  {
   "cell_type": "markdown",
   "metadata": {},
   "source": [
    "## 重命名文件或文件夹\n",
    "\n",
    "os.rename(\"文件/文件夹\",\"新文件名/新文件夹名\")"
   ]
  },
  {
   "cell_type": "code",
   "execution_count": null,
   "metadata": {},
   "outputs": [],
   "source": [
    "import os\n",
    "# 将test1.xlsx重命名为“my.xlsx”\n",
    "os.rename(\"test1.xlsx\",\"my.xlsx\")\n",
    "# 将“傻逼”文件夹重命名为“傻子”文件夹\n",
    "os.rename(\"傻逼\",\"傻子\")"
   ]
  },
  {
   "cell_type": "markdown",
   "metadata": {},
   "source": [
    "## 删除文件或文件夹\n",
    "\n",
    "### 删除文件\n",
    "os.remove(\"要删除的文件\")\n",
    "\n",
    "注意：这里说的只是删除文件，而不能是文件夹；"
   ]
  },
  {
   "cell_type": "code",
   "execution_count": null,
   "metadata": {},
   "outputs": [],
   "source": [
    "import os \n",
    "# 删除“my.xlsx”文件\n",
    "os.remove(\"my.xlsx\")"
   ]
  },
  {
   "cell_type": "markdown",
   "metadata": {},
   "source": [
    "### 删除文件夹\n",
    "shutil.rmtree(\"要删除的文件夹\")"
   ]
  },
  {
   "cell_type": "code",
   "execution_count": null,
   "metadata": {},
   "outputs": [],
   "source": [
    "import shutil\n",
    "# 删除“文件夹0”这个文件夹\n",
    "shutil.rmtree(\"文件夹0\")"
   ]
  },
  {
   "cell_type": "markdown",
   "metadata": {},
   "source": [
    "# 创建和解压压缩包\n",
    "注意：这里所说的压缩包，指的是“.zip”格式的压缩包；\n",
    "\n",
    "## 读取压缩包里的文件"
   ]
  },
  {
   "cell_type": "code",
   "execution_count": null,
   "metadata": {},
   "outputs": [],
   "source": [
    "import zipfile\n",
    "\n",
    "with zipfile.ZipFile(\"python办公自动化.zip\", \"r\") as zipobj:\n",
    "    print(zipobj.namelist())\n",
    "\n"
   ]
  },
  {
   "cell_type": "code",
   "execution_count": null,
   "metadata": {},
   "outputs": [],
   "source": [
    "# 注意：有时候需要写成filename.encode(\"cp437\").decode(\"gbk\")\n",
    "with zipfile.ZipFile(\"python办公自动化.zip\", \"r\") as zipobj:\n",
    "    for filename in zipobj.namelist():\n",
    "        print(filename.encode(\"gbk\").decode(\"gbk\"))"
   ]
  },
  {
   "cell_type": "markdown",
   "metadata": {},
   "source": [
    "## 读取压缩包里面的文件信息"
   ]
  },
  {
   "cell_type": "code",
   "execution_count": null,
   "metadata": {},
   "outputs": [],
   "source": [
    "import zipfile\n",
    "\n",
    "with zipfile.ZipFile(r\"G:\\tableau书籍\\Tableau文件.zip\", \"r\") as zipobj:\n",
    "    for filename in zipobj.namelist():\n",
    "        info = zipobj.getinfo(filename)\n",
    "        new_filename = filename.encode(\"cp437\").decode(\"gbk\")\n",
    "        print(new_filename, info.file_size/1024/1024, info.compress_size/1024/1024)"
   ]
  },
  {
   "cell_type": "markdown",
   "metadata": {},
   "source": [
    "## 解压压缩包\n",
    "extract(\"压缩包内要解压的文件名\",\"解压到哪个位置\")：将压缩包内单个文件解压出来；\n",
    "\n",
    "extractall(\"解压到哪个位置\")：将压缩包内所有文件解压出来；"
   ]
  },
  {
   "cell_type": "markdown",
   "metadata": {},
   "source": [
    "### 解压单个文件\n",
    "extract(\"压缩包内要解压的文件名\",\"解压到哪个位置\")"
   ]
  },
  {
   "cell_type": "code",
   "execution_count": null,
   "metadata": {},
   "outputs": [],
   "source": [
    "import zipfile\n",
    "# 将该压缩包中的“a.txt”文件，单独解压到“傻子”文件夹下\n",
    "with zipfile.ZipFile(r\"G:\\6Tipdm\\7python办公自动化\\python办公自动化.zip\", \"r\") as zipobj:\n",
    "    zipobj.extract(\"a.txt\",\"./傻子/\")"
   ]
  },
  {
   "cell_type": "markdown",
   "metadata": {},
   "source": [
    "### 解压整个文件\n",
    "extractall(\"解压到哪个位置\")"
   ]
  },
  {
   "cell_type": "code",
   "execution_count": null,
   "metadata": {},
   "outputs": [],
   "source": [
    "import zipfile\n",
    "# 将该压缩包整个解压到“文件夹1”文件夹下\n",
    "with zipfile.ZipFile(r\"G:\\6Tipdm\\7python办公自动化\\python办公自动化.zip\", \"r\") as zipobj:\n",
    "    zipobj.extractall(\"./文件夹1/\")"
   ]
  },
  {
   "cell_type": "markdown",
   "metadata": {},
   "source": [
    "注意：如果你的压缩包中“有密码”，则采用以下方式进行解压。\n",
    "\n",
    ".extractall(path=解压到哪个位置,pwd=b'密码')"
   ]
  },
  {
   "cell_type": "code",
   "execution_count": null,
   "metadata": {},
   "outputs": [],
   "source": [
    "with zipfile.ZipFile(\"这是一个有密码的压缩包.zip\", \"r\") as zipobj:\n",
    "    zipobj.extractall(path='解压',pwd=b'makerbean')"
   ]
  },
  {
   "cell_type": "markdown",
   "metadata": {},
   "source": [
    "## 创建压缩包\n",
    "### 对某些文件，创建压缩包"
   ]
  },
  {
   "cell_type": "code",
   "execution_count": null,
   "metadata": {},
   "outputs": [],
   "source": [
    "file_list = [\"a.txt\", \"aa.txt\", \"文件夹1\"]\n",
    "# 将上述三个文件，进行打包，使用“w”\n",
    "with zipfile.ZipFile(r\"我创建的压缩包.zip\", \"w\") as zipobj:\n",
    "    for file in file_list:\n",
    "        zipobj.write(file)"
   ]
  },
  {
   "cell_type": "markdown",
   "metadata": {},
   "source": [
    "### 压缩包已经存在，往其中添加文件"
   ]
  },
  {
   "cell_type": "code",
   "execution_count": null,
   "metadata": {},
   "outputs": [],
   "source": [
    "# 往上述压缩包中，再次添加一个新文件“傻子”文件夹，使用“a”\n",
    "with zipfile.ZipFile(r\"我创建的压缩包.zip\", \"a\") as zipobj:\n",
    "    for file in file_list:\n",
    "        zipobj.write(\"傻子\")"
   ]
  },
  {
   "cell_type": "code",
   "execution_count": null,
   "metadata": {},
   "outputs": [],
   "source": []
  }
 ],
 "metadata": {
  "kernelspec": {
   "display_name": "Python 3",
   "language": "python",
   "name": "python3"
  },
  "language_info": {
   "codemirror_mode": {
    "name": "ipython",
    "version": 3
   },
   "file_extension": ".py",
   "mimetype": "text/x-python",
   "name": "python",
   "nbconvert_exporter": "python",
   "pygments_lexer": "ipython3",
   "version": "3.7.0"
  },
  "toc": {
   "base_numbering": 1,
   "nav_menu": {},
   "number_sections": true,
   "sideBar": true,
   "skip_h1_title": false,
   "title_cell": "Table of Contents",
   "title_sidebar": "Contents",
   "toc_cell": false,
   "toc_position": {
    "height": "calc(100% - 180px)",
    "left": "10px",
    "top": "150px",
    "width": "480px"
   },
   "toc_section_display": true,
   "toc_window_display": true
  }
 },
 "nbformat": 4,
 "nbformat_minor": 2
}
